{
 "cells": [
  {
   "cell_type": "code",
   "execution_count": 1,
   "metadata": {},
   "outputs": [
    {
     "name": "stdout",
     "output_type": "stream",
     "text": [
      "The first Armstrong number is  1741725\n"
     ]
    }
   ],
   "source": [
    "for num in range(1042000,702648265):\n",
    "    pw = len(str(num))\n",
    "    temp = num\n",
    "    sum = 0\n",
    "    while(temp != 0):\n",
    "        r = temp % 10\n",
    "        sum = sum + r**pw\n",
    "        temp = temp // 10\n",
    "    if (num == sum):\n",
    "        print(\"The first Armstrong number is \",num)\n",
    "        break"
   ]
  },
  {
   "cell_type": "code",
   "execution_count": null,
   "metadata": {},
   "outputs": [],
   "source": []
  }
 ],
 "metadata": {
  "kernelspec": {
   "display_name": "Python 3",
   "language": "python",
   "name": "python3"
  },
  "language_info": {
   "codemirror_mode": {
    "name": "ipython",
    "version": 3
   },
   "file_extension": ".py",
   "mimetype": "text/x-python",
   "name": "python",
   "nbconvert_exporter": "python",
   "pygments_lexer": "ipython3",
   "version": "3.8.3"
  }
 },
 "nbformat": 4,
 "nbformat_minor": 4
}
